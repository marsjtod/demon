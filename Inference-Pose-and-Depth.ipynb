{
 "cells": [
  {
   "cell_type": "code",
   "execution_count": 1,
   "metadata": {},
   "outputs": [
    {
     "name": "stderr",
     "output_type": "stream",
     "text": [
      "/usr/local/lib/python3.5/dist-packages/tensorflow/python/framework/dtypes.py:469: FutureWarning: Passing (type, 1) or '1type' as a synonym of type is deprecated; in a future version of numpy, it will be understood as (type, (1,)) / '(1,)type'.\n",
      "  _np_qint8 = np.dtype([(\"qint8\", np.int8, 1)])\n",
      "/usr/local/lib/python3.5/dist-packages/tensorflow/python/framework/dtypes.py:470: FutureWarning: Passing (type, 1) or '1type' as a synonym of type is deprecated; in a future version of numpy, it will be understood as (type, (1,)) / '(1,)type'.\n",
      "  _np_quint8 = np.dtype([(\"quint8\", np.uint8, 1)])\n",
      "/usr/local/lib/python3.5/dist-packages/tensorflow/python/framework/dtypes.py:471: FutureWarning: Passing (type, 1) or '1type' as a synonym of type is deprecated; in a future version of numpy, it will be understood as (type, (1,)) / '(1,)type'.\n",
      "  _np_qint16 = np.dtype([(\"qint16\", np.int16, 1)])\n",
      "/usr/local/lib/python3.5/dist-packages/tensorflow/python/framework/dtypes.py:472: FutureWarning: Passing (type, 1) or '1type' as a synonym of type is deprecated; in a future version of numpy, it will be understood as (type, (1,)) / '(1,)type'.\n",
      "  _np_quint16 = np.dtype([(\"quint16\", np.uint16, 1)])\n",
      "/usr/local/lib/python3.5/dist-packages/tensorflow/python/framework/dtypes.py:473: FutureWarning: Passing (type, 1) or '1type' as a synonym of type is deprecated; in a future version of numpy, it will be understood as (type, (1,)) / '(1,)type'.\n",
      "  _np_qint32 = np.dtype([(\"qint32\", np.int32, 1)])\n",
      "/usr/local/lib/python3.5/dist-packages/tensorflow/python/framework/dtypes.py:476: FutureWarning: Passing (type, 1) or '1type' as a synonym of type is deprecated; in a future version of numpy, it will be understood as (type, (1,)) / '(1,)type'.\n",
      "  np_resource = np.dtype([(\"resource\", np.ubyte, 1)])\n"
     ]
    },
    {
     "name": "stdout",
     "output_type": "stream",
     "text": [
      "/workspace/demon-sfm\r\n"
     ]
    }
   ],
   "source": [
    "import tensorflow as tf\n",
    "import numpy as np\n",
    "from PIL import Image\n",
    "from matplotlib import pyplot as plt\n",
    "import os\n",
    "import sys\n",
    "\n",
    "!pwd\n",
    "\n",
    "if tf.test.is_gpu_available(True):\n",
    "    data_format='channels_first'\n",
    "else: # running on cpu requires channels_last data format\n",
    "    data_format='channels_last'\n",
    "\n",
    "#print(data_format)"
   ]
  },
  {
   "cell_type": "code",
   "execution_count": 2,
   "metadata": {},
   "outputs": [
    {
     "name": "stdout",
     "output_type": "stream",
     "text": [
      "Using /workspace/demon-sfm/lmbspecialops/build/lib/lmbspecialops.so\n"
     ]
    }
   ],
   "source": [
    "base_path = '/workspace/demon-sfm'\n",
    "examples_dir = os.path.join(base_path,'examples')\n",
    "weights_dir = os.path.join(base_path,'weights')\n",
    "python_path = os.path.join(base_path, 'python')\n",
    "#print(python_path)\n",
    "\n",
    "sys.path.insert(0, os.path.join(base_path, 'python'))\n",
    "from depthmotionnet.networks_original import *"
   ]
  },
  {
   "cell_type": "code",
   "execution_count": 3,
   "metadata": {},
   "outputs": [],
   "source": [
    "# sample read data\n",
    "img1 = Image.open(os.path.join(examples_dir,'sculpture1.png'))\n",
    "img2 = Image.open(os.path.join(examples_dir,'sculpture2.png'))\n",
    "\n",
    "# 경기전 read data\n",
    "examples_dir = '/data/test-input/pose-good-res/01'\n",
    "img1 = Image.open(os.path.join(examples_dir,'DJI_0003.resized.JPG'))\n",
    "img2 = Image.open(os.path.join(examples_dir,'DJI_0004.resized.JPG'))"
   ]
  },
  {
   "cell_type": "code",
   "execution_count": 4,
   "metadata": {},
   "outputs": [],
   "source": [
    "def prepare_input_data(img1, img2, data_format):\n",
    "    \"\"\"Creates the arrays used as input from the two images.\"\"\"\n",
    "    # scale images if necessary\n",
    "    if img1.size[0] != 256 or img1.size[1] != 192:\n",
    "        img1 = img1.resize((256,192))\n",
    "    if img2.size[0] != 256 or img2.size[1] != 192:\n",
    "        img2 = img2.resize((256,192))\n",
    "    img2_2 = img2.resize((64,48))\n",
    "        \n",
    "    # transform range from [0,255] to [-0.5,0.5]\n",
    "    img1_arr = np.array(img1).astype(np.float32)/255 -0.5\n",
    "    img2_arr = np.array(img2).astype(np.float32)/255 -0.5\n",
    "    img2_2_arr = np.array(img2_2).astype(np.float32)/255 -0.5\n",
    "    \n",
    "    if data_format == 'channels_first':\n",
    "        img1_arr = img1_arr.transpose([2,0,1])\n",
    "        img2_arr = img2_arr.transpose([2,0,1])\n",
    "        img2_2_arr = img2_2_arr.transpose([2,0,1])\n",
    "        image_pair = np.concatenate((img1_arr,img2_arr), axis=0)\n",
    "    else:\n",
    "        image_pair = np.concatenate((img1_arr,img2_arr),axis=-1)\n",
    "    \n",
    "    result = {\n",
    "        'image_pair': image_pair[np.newaxis,:],\n",
    "        'image1': img1_arr[np.newaxis,:], # first image\n",
    "        'image2_2': img2_2_arr[np.newaxis,:], # second image with (w=64,h=48)\n",
    "    }\n",
    "    return result\n",
    "\n",
    "input_data = prepare_input_data(img1,img2,data_format)"
   ]
  },
  {
   "cell_type": "code",
   "execution_count": 5,
   "metadata": {},
   "outputs": [
    {
     "name": "stdout",
     "output_type": "stream",
     "text": [
      "INFO:tensorflow:Restoring parameters from /workspace/demon-sfm/weights/demon_original\n"
     ]
    }
   ],
   "source": [
    "# init networks\n",
    "gpu_options = tf.GPUOptions()\n",
    "gpu_options.per_process_gpu_memory_fraction=0.8\n",
    "session = tf.InteractiveSession(config=tf.ConfigProto(allow_soft_placement=True, gpu_options=gpu_options))\n",
    "\n",
    "bootstrap_net = BootstrapNet(session, data_format)\n",
    "iterative_net = IterativeNet(session, data_format)\n",
    "refine_net = RefinementNet(session, data_format)\n",
    "\n",
    "session.run(tf.global_variables_initializer())\n",
    "\n",
    "# load weights\n",
    "saver = tf.train.Saver()\n",
    "saver.restore(session,os.path.join(weights_dir,'demon_original'))\n",
    "\n",
    "\n",
    "# run the network\n",
    "result = bootstrap_net.eval(input_data['image_pair'], input_data['image2_2'])\n",
    "for i in range(3):\n",
    "    result = iterative_net.eval(\n",
    "        input_data['image_pair'], \n",
    "        input_data['image2_2'], \n",
    "        result['predict_depth2'], \n",
    "        result['predict_normal2'], \n",
    "        result['predict_rotation'], \n",
    "        result['predict_translation']\n",
    "    )\n",
    "rotation = result['predict_rotation']\n",
    "translation = result['predict_translation']\n",
    "result = refine_net.eval(input_data['image1'],result['predict_depth2'])"
   ]
  },
  {
   "cell_type": "markdown",
   "metadata": {},
   "source": [
    "### 결과"
   ]
  },
  {
   "cell_type": "code",
   "execution_count": 6,
   "metadata": {},
   "outputs": [
    {
     "name": "stdout",
     "output_type": "stream",
     "text": [
      "[[0.03994165 0.01108856 0.0043385 ]]\n",
      "[[-0.17896575  0.9707835  -0.04161173]]\n"
     ]
    },
    {
     "data": {
      "image/png": "[encoded data removed]",
      "text/plain": [
       "<Figure size 432x288 with 1 Axes>"
      ]
     },
     "metadata": {
      "needs_background": "light"
     },
     "output_type": "display_data"
    }
   ],
   "source": [
    "# pose result\n",
    "print(rotation)\n",
    "print(translation)\n",
    "\n",
    "# depth result\n",
    "plt.imshow(result['predict_depth0'].squeeze(), cmap='Greys')\n",
    "plt.show()"
   ]
  },
  {
   "cell_type": "code",
   "execution_count": null,
   "metadata": {},
   "outputs": [],
   "source": []
  }
 ],
 "metadata": {
  "kernelspec": {
   "display_name": "Python 3",
   "language": "python",
   "name": "python3"
  },
  "language_info": {
   "codemirror_mode": {
    "name": "ipython",
    "version": 3
   },
   "file_extension": ".py",
   "mimetype": "text/x-python",
   "name": "python",
   "nbconvert_exporter": "python",
   "pygments_lexer": "ipython3",
   "version": "3.5.2"
  }
 },
 "nbformat": 4,
 "nbformat_minor": 2
}
